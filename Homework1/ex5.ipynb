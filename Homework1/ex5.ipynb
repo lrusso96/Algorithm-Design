{
 "cells": [
  {
   "cell_type": "code",
   "execution_count": 1,
   "metadata": {},
   "outputs": [],
   "source": [
    "import networkx as nx\n",
    "from collections import defaultdict"
   ]
  },
  {
   "cell_type": "code",
   "execution_count": 2,
   "metadata": {},
   "outputs": [],
   "source": [
    "def build_test_graph():\n",
    "    G = nx.Graph()\n",
    "    G.add_edge(1, 2, weight=2)  # specify edge data\n",
    "    G.add_edge(3, 4, weight=4)  # specify edge data\n",
    "    G.add_edge(1, 4, weight=3)  # specify edge data\n",
    "    G.add_edge(2, 4, weight=3)  # specify edge data\n",
    "    G.add_edge(1, 3, weight=5)  # specify edge data\n",
    "    return G"
   ]
  },
  {
   "cell_type": "code",
   "execution_count": 10,
   "metadata": {},
   "outputs": [],
   "source": [
    "def _has_MST(G, start, end, visited, threshold, debug = False):\n",
    "    visited.add(start)\n",
    "    if debug:\n",
    "        print(start)\n",
    "    adj = dict(G.adj[start])\n",
    "    for n in adj:\n",
    "        if n in visited or adj[n][\"weight\"] >= threshold:\n",
    "            continue\n",
    "        if n == end:\n",
    "            return False\n",
    "        if not _has_MST(G, n, end, visited, threshold):\n",
    "            return False\n",
    "    return True        \n",
    "\n",
    "def has_MST(G, edge, debug = False):\n",
    "    u,v,w = edge\n",
    "    w = w[\"weight\"]\n",
    "    return _has_MST(G, u, v, set(), w)"
   ]
  },
  {
   "cell_type": "code",
   "execution_count": 11,
   "metadata": {},
   "outputs": [],
   "source": [
    "from networkx.utils import UnionFind\n",
    "from math import isnan\n",
    "\n",
    "def boruvka_mst_edges(G, fixed, debug = False):\n",
    "    \"\"\"Iterate over edges of a Borůvka's algorithm min/max spanning tree.\n",
    "\n",
    "    Parameters\n",
    "    ----------\n",
    "    G : NetworkX Graph\n",
    "        The edges of `G` must have distinct weights,\n",
    "        otherwise the edges may not form a tree.\n",
    "\n",
    "    \"\"\"\n",
    "    # Initialize a forest, assuming initially that it is the discrete\n",
    "    # partition of the nodes of the graph.\n",
    "    forest = UnionFind(G)\n",
    "    \n",
    "    # Add u and v to the same forest\n",
    "    yield fixed[0], fixed[1], fixed[2]\n",
    "    forest.union(fixed[0], fixed[1])\n",
    "    \n",
    "    if debug:\n",
    "        for component in forest.to_sets():\n",
    "            print(component)\n",
    "\n",
    "    def best_edge(component):\n",
    "        \"\"\"Returns the optimum (minimum) edge on the edge\n",
    "        boundary of the given set of nodes.\n",
    "\n",
    "        A return value of ``None`` indicates an empty boundary.\n",
    "        \"\"\"\n",
    "        minwt = float('inf')\n",
    "        boundary = None\n",
    "        for e in nx.edge_boundary(G, component, data=True):\n",
    "            wt = e[-1][\"weight\"]\n",
    "            if isnan(wt):\n",
    "                msg = \"NaN found as an edge weight. Edge %s\"\n",
    "                raise ValueError(msg % (e,))\n",
    "            if wt < minwt:\n",
    "                minwt = wt\n",
    "                boundary = e\n",
    "        return boundary\n",
    "\n",
    "    # Determine the optimum edge in the edge boundary of each component\n",
    "    # in the forest.\n",
    "    best_edges = (best_edge(component) for component in forest.to_sets())\n",
    "    best_edges = [edge for edge in best_edges if edge is not None]\n",
    "\n",
    "    # If each entry was ``None``, that means the graph was disconnected,\n",
    "    # so we are done generating the forest.\n",
    "    while best_edges:\n",
    "        # Determine the optimum edge in the edge boundary of each\n",
    "        # component in the forest.\n",
    "        #\n",
    "        # This must be a sequence, not an iterator. In this list, the\n",
    "        # same edge may appear twice, in different orientations (but\n",
    "        # that's okay, since a union operation will be called on the\n",
    "        # endpoints the first time it is seen, but not the second time).\n",
    "        #\n",
    "        # Any ``None`` indicates that the edge boundary for that\n",
    "        # component was empty, so that part of the forest has been\n",
    "        # completed.\n",
    "        best_edges = (best_edge(component) for component in forest.to_sets())\n",
    "        best_edges = [edge for edge in best_edges if edge is not None]\n",
    "        # Join trees in the forest using the best edges, and yield that\n",
    "        # edge, since it is part of the spanning tree.\n",
    "        for u, v, d in best_edges:\n",
    "            if forest[u] != forest[v]:\n",
    "                yield u, v, d\n",
    "                forest.union(u, v)"
   ]
  },
  {
   "cell_type": "code",
   "execution_count": 12,
   "metadata": {},
   "outputs": [],
   "source": [
    "def print_edges(edges):\n",
    "    weight = 0\n",
    "    print(\"Edges of MST:\")\n",
    "    for e in edges:\n",
    "        w = e[2][\"weight\"]\n",
    "        print(e[0], \"-->\", e[1], \"(\", w ,\")\")\n",
    "        weight += w\n",
    "    print(\"Total weight: \", weight)\n"
   ]
  },
  {
   "cell_type": "code",
   "execution_count": 15,
   "metadata": {},
   "outputs": [
    {
     "name": "stdout",
     "output_type": "stream",
     "text": [
      "Edges of MST:\n",
      "4 --> 3 ( 4 )\n",
      "1 --> 2 ( 2 )\n",
      "4 --> 1 ( 3 )\n",
      "Total weight:  9\n"
     ]
    }
   ],
   "source": [
    "G = build_test_graph()\n",
    "fixed = [4,3,{\"weight\": 4}]\n",
    "if has_MST(G, fixed):\n",
    "    print_edges(boruvka_mst_edges(G, fixed))"
   ]
  },
  {
   "cell_type": "code",
   "execution_count": null,
   "metadata": {},
   "outputs": [],
   "source": []
  },
  {
   "cell_type": "code",
   "execution_count": null,
   "metadata": {},
   "outputs": [],
   "source": []
  },
  {
   "cell_type": "code",
   "execution_count": null,
   "metadata": {},
   "outputs": [],
   "source": []
  }
 ],
 "metadata": {
  "kernelspec": {
   "display_name": "Python 3",
   "language": "python",
   "name": "python3"
  },
  "language_info": {
   "codemirror_mode": {
    "name": "ipython",
    "version": 3
   },
   "file_extension": ".py",
   "mimetype": "text/x-python",
   "name": "python",
   "nbconvert_exporter": "python",
   "pygments_lexer": "ipython3",
   "version": "3.7.1"
  }
 },
 "nbformat": 4,
 "nbformat_minor": 2
}
